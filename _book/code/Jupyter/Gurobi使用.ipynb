{
 "cells": [
  {
   "cell_type": "markdown",
   "metadata": {
    "ExecuteTime": {
     "end_time": "2020-03-06T02:14:11.747577Z",
     "start_time": "2020-03-06T02:14:11.738635Z"
    }
   },
   "source": [
    "Gurobi建模过程：\n",
    "1. 建立全部的变量\n",
    "2. 设立好目标函数\n",
    "3. 建立好约束条件\n",
    "4. 运行优化器"
   ]
  },
  {
   "cell_type": "markdown",
   "metadata": {},
   "source": [
    "Gurobi tuplelist和tupledict的使用，主要是为了使用$x_{ij}$这类形式。\n"
   ]
  },
  {
   "cell_type": "markdown",
   "metadata": {
    "ExecuteTime": {
     "end_time": "2020-03-06T02:20:42.112246Z",
     "start_time": "2020-03-06T02:20:42.105267Z"
    }
   },
   "source": [
    "Gurobi建模举例1：\n",
    "$$\\max x+y+2z$$\n",
    "$$ s.t. x+2y+3z \\le 4$$\n",
    "$$    x+y\\ge 1$$\n",
    "$$ x,y, z \\in \\{0,1\\}$$"
   ]
  },
  {
   "cell_type": "code",
   "execution_count": 5,
   "metadata": {
    "ExecuteTime": {
     "end_time": "2020-03-06T03:00:57.739972Z",
     "start_time": "2020-03-06T03:00:57.709055Z"
    }
   },
   "outputs": [
    {
     "name": "stdout",
     "output_type": "stream",
     "text": [
      "Gurobi Optimizer version 9.0.1 build v9.0.1rc0 (win64)\n",
      "Optimize a model with 2 rows, 3 columns and 4 nonzeros\n",
      "Model fingerprint: 0x5bddebf2\n",
      "Variable types: 0 continuous, 3 integer (3 binary)\n",
      "Coefficient statistics:\n",
      "  Matrix range     [1e+00, 4e+00]\n",
      "  Objective range  [1e+00, 2e+00]\n",
      "  Bounds range     [1e+00, 1e+00]\n",
      "  RHS range        [1e+00, 4e+00]\n",
      "Found heuristic solution: objective 2.0000000\n",
      "Presolve removed 2 rows and 3 columns\n",
      "Presolve time: 0.00s\n",
      "Presolve: All rows and columns removed\n",
      "\n",
      "Explored 0 nodes (0 simplex iterations) in 0.01 seconds\n",
      "Thread count was 1 (of 4 available processors)\n",
      "\n",
      "Solution count 2: 3 \n",
      "\n",
      "Optimal solution found (tolerance 1.00e-04)\n",
      "Best objective 3.000000000000e+00, best bound 3.000000000000e+00, gap 0.0000%\n",
      "x 1.0\n",
      "y 0.0\n",
      "z 1.0\n",
      "obj: 3.0\n"
     ]
    }
   ],
   "source": [
    "import gurobipy\n",
    "try:\n",
    "    m = gurobipy.Model('model_ex1')\n",
    "    x = m.addVar(vtype=gurobipy.GRB.BINARY, name='x')\n",
    "    y = m.addVar(vtype=gurobipy.GRB.BINARY, name='y')\n",
    "    z = m.addVar(vtype=gurobipy.GRB.BINARY, name='z')\n",
    "\n",
    "    m.setObjective(x + y + 2 * z, gurobipy.GRB.MAXIMIZE)\n",
    "    m.addConstr(z + 2 * y + 3 * z <= 4, 'c0')\n",
    "    m.addConstr(x + y >= 1, 'c1')\n",
    "    m.optimize()\n",
    "    for v in m.getVars():\n",
    "        print('{} {}'.format(v.varName, v.x))\n",
    "    print('obj: {}'.format(m.objVal))\n",
    "\n",
    "except gurobipy.GurobiError as e:\n",
    "    print('Error Code' + str(e.errno) + \":\" + str(e))\n",
    "    \n",
    "except AttributeError:\n",
    "    print('Encountered an attribute error')"
   ]
  },
  {
   "cell_type": "markdown",
   "metadata": {},
   "source": [
    "营养配方模型\n",
    "* 四种营养 calories, protein, fat, sodium\n",
    "* 食物来源 hamburger, chicken, hot dog, fries, macaroni, pizza, salad, milk, ice cream\n",
    "* 营养吸收有上限和下限\n",
    "* 食物价格不同\n",
    "* 食物营养不同"
   ]
  },
  {
   "cell_type": "code",
   "execution_count": 4,
   "metadata": {
    "ExecuteTime": {
     "end_time": "2020-03-06T04:38:13.008461Z",
     "start_time": "2020-03-06T04:38:12.942636Z"
    }
   },
   "outputs": [
    {
     "name": "stdout",
     "output_type": "stream",
     "text": [
      "Gurobi Optimizer version 9.0.1 build v9.0.1rc0 (win64)\n",
      "Optimize a model with 4 rows, 12 columns and 39 nonzeros\n",
      "Model fingerprint: 0x47f21384\n",
      "Coefficient statistics:\n",
      "  Matrix range     [1e+00, 2e+03]\n",
      "  Objective range  [9e-01, 3e+00]\n",
      "  Bounds range     [7e+01, 2e+03]\n",
      "  RHS range        [7e+01, 2e+03]\n",
      "Presolve removed 0 rows and 2 columns\n",
      "Presolve time: 0.01s\n",
      "Presolved: 4 rows, 10 columns, 37 nonzeros\n",
      "\n",
      "Iteration    Objective       Primal Inf.    Dual Inf.      Time\n",
      "       0    0.0000000e+00   1.222500e+02   0.000000e+00      0s\n",
      "       3    9.6645465e+00   0.000000e+00   0.000000e+00      0s\n",
      "\n",
      "Solved in 3 iterations and 0.02 seconds\n",
      "Optimal objective  9.664546521e+00\n",
      "\n",
      "Cost: 9.66455\n",
      "\n",
      "Buy:\n",
      "hamburger 0\n",
      "chicken 0\n",
      "hot dog 0\n",
      "fries 0\n",
      "macaroni 0\n",
      "pizza 0\n",
      "salad 0.478961\n",
      "milk 9.51903\n",
      "ice cream 0\n"
     ]
    }
   ],
   "source": [
    "import gurobipy\n",
    "categories, minNutrition, maxNutrition=gurobipy.multidict({\n",
    "    'calories':[1000,2000],\n",
    "    'protein':[91, gurobipy.GRB.INFINITY],\n",
    "    'fat':[0,65],\n",
    "    'sodium':[0,1779]\n",
    "})\n",
    "foods, cost=gurobipy.multidict({\n",
    "    'hamburger':2.49,\n",
    "    'chicken':2.89,\n",
    "    'hot dog':1.50,\n",
    "    'fries':1.89,\n",
    "    'macaroni':2.09,\n",
    "    'pizza':1.99,\n",
    "    'salad':2.49,\n",
    "    'milk':0.89,\n",
    "    'ice cream':1.59\n",
    "})\n",
    "nutritionValues = {\n",
    "    ('hamburger', 'calories'): 410,\n",
    "    ('hamburger', 'protein'):  24,\n",
    "    ('hamburger', 'fat'):      26,\n",
    "    ('hamburger', 'sodium'):   730,\n",
    "    ('chicken',   'calories'): 420,\n",
    "    ('chicken',   'protein'):  32,\n",
    "    ('chicken',   'fat'):      10,\n",
    "    ('chicken',   'sodium'):   1190,\n",
    "    ('hot dog',   'calories'): 560,\n",
    "    ('hot dog',   'protein'):  20,\n",
    "    ('hot dog',   'fat'):      32,\n",
    "    ('hot dog',   'sodium'):   1800,\n",
    "    ('fries',     'calories'): 380,\n",
    "    ('fries',     'protein'):  4,\n",
    "    ('fries',     'fat'):      19,\n",
    "    ('fries',     'sodium'):   270,\n",
    "    ('macaroni',  'calories'): 320,\n",
    "    ('macaroni',  'protein'):  12,\n",
    "    ('macaroni',  'fat'):      10,\n",
    "    ('macaroni',  'sodium'):   930,\n",
    "    ('pizza',     'calories'): 320,\n",
    "    ('pizza',     'protein'):  15,\n",
    "    ('pizza',     'fat'):      12,\n",
    "    ('pizza',     'sodium'):   820,\n",
    "    ('salad',     'calories'): 320,\n",
    "    ('salad',     'protein'):  31,\n",
    "    ('salad',     'fat'):      12,\n",
    "    ('salad',     'sodium'):   1230,\n",
    "    ('milk',      'calories'): 100,\n",
    "    ('milk',      'protein'):  8,\n",
    "    ('milk',      'fat'):      2.5,\n",
    "    ('milk',      'sodium'):   125,\n",
    "    ('ice cream', 'calories'): 330,\n",
    "    ('ice cream', 'protein'):  8,\n",
    "    ('ice cream', 'fat'):      10,\n",
    "    ('ice cream', 'sodium'):   180}\n",
    "m=gurobipy.Model('diet')\n",
    "buy=m.addVars(foods,name='buy')\n",
    "m.setObjective(buy.prod(cost), gurobipy.GRB.MINIMIZE)\n",
    "\n",
    "m.addConstrs((sum(nutritionValues[f, c] * buy[f] for f in foods)\n",
    "             == [minNutrition[c], maxNutrition[c]]\n",
    "             for c in categories), \"_\")\n",
    "def printSolution():\n",
    "    if m.status == gurobipy.GRB.OPTIMAL:\n",
    "        print('\\nCost: %g' % m.objVal)\n",
    "        print('\\nBuy:')\n",
    "        buyx = m.getAttr('x', buy)\n",
    "        for f in foods:\n",
    "            print('%s %g' % (f, buyx[f]))\n",
    "    else:\n",
    "        print('No solution')\n",
    "\n",
    "\n",
    "# Solve\n",
    "m.optimize()\n",
    "printSolution()"
   ]
  },
  {
   "cell_type": "code",
   "execution_count": null,
   "metadata": {},
   "outputs": [],
   "source": []
  }
 ],
 "metadata": {
  "kernelspec": {
   "display_name": "Python 3",
   "language": "python",
   "name": "python3"
  },
  "language_info": {
   "codemirror_mode": {
    "name": "ipython",
    "version": 3
   },
   "file_extension": ".py",
   "mimetype": "text/x-python",
   "name": "python",
   "nbconvert_exporter": "python",
   "pygments_lexer": "ipython3",
   "version": "3.6.8"
  },
  "latex_envs": {
   "LaTeX_envs_menu_present": true,
   "autoclose": false,
   "autocomplete": true,
   "bibliofile": "biblio.bib",
   "cite_by": "apalike",
   "current_citInitial": 1,
   "eqLabelWithNumbers": true,
   "eqNumInitial": 1,
   "hotkeys": {
    "equation": "Ctrl-E",
    "itemize": "Ctrl-I"
   },
   "labels_anchors": false,
   "latex_user_defs": false,
   "report_style_numbering": false,
   "user_envs_cfg": false
  }
 },
 "nbformat": 4,
 "nbformat_minor": 2
}
