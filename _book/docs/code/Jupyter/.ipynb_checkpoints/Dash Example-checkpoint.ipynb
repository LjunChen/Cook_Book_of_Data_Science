{
 "cells": [
  {
   "cell_type": "code",
   "execution_count": 1,
   "metadata": {
    "ExecuteTime": {
     "end_time": "2020-04-18T15:37:15.665874Z",
     "start_time": "2020-04-18T15:37:12.147669Z"
    }
   },
   "outputs": [],
   "source": [
    "import pandas as pd\n",
    "import numpy as np\n",
    "import dash\n",
    "import dash_core_components as dcc\n",
    "import dash_html_components as html\n",
    "import plotly.graph_objs as go"
   ]
  },
  {
   "cell_type": "code",
   "execution_count": 5,
   "metadata": {
    "ExecuteTime": {
     "end_time": "2020-04-18T15:38:21.578785Z",
     "start_time": "2020-04-18T15:38:21.557841Z"
    }
   },
   "outputs": [],
   "source": [
    "app = dash.Dash()\n",
    "server = app.server\n"
   ]
  },
  {
   "cell_type": "code",
   "execution_count": 6,
   "metadata": {
    "ExecuteTime": {
     "end_time": "2020-04-18T15:50:47.068089Z",
     "start_time": "2020-04-18T15:50:47.055123Z"
    }
   },
   "outputs": [],
   "source": [
    "app.layout = html.Div([\n",
    "    html.Div([\n",
    "        html.Label('distribution'),\n",
    "        html.Div([\n",
    "            dcc.Dropdown(   # 功能性组件， 设定id值作为标签关联callback函数中的标签\n",
    "                id='dist',\n",
    "                options=[{'label': i, 'value': i} for i in ['normal', 'uniform']],\n",
    "                value='female'),\n",
    "        ]),\n",
    "        html.Label('N'),\n",
    "        html.Div([\n",
    "            dcc.RangeSlider(count=100,min=100,max=1000,\n",
    "            step=100,\n",
    "            value=100),\n",
    "        ]),\n",
    "    ], className=\"three columns\"),  # 直接加入css的功能\n",
    "    html.Div([\n",
    "        dcc.Graph(id='scatter')    # 关联graph\n",
    "    ], className=\"eight columns\")\n",
    "], className=\"page\")\n",
    "\n"
   ]
  },
  {
   "cell_type": "code",
   "execution_count": null,
   "metadata": {},
   "outputs": [],
   "source": [
    "@app.callback(\n",
    "    dash.dependencies.Output('scatter', 'figure'),\n",
    "    [dash.dependencies.Input('dist','value'),\n",
    "     dash.dependencies.Input('N','value')]\n",
    ")\n",
    "def update_scatter(value_dist, value_N):\n",
    "    if value_dist=='norm':\n",
    "        import numpy as np\n",
    "        t=np.random.random(value_N)\n",
    "        trace=go.hist(t)\n",
    "\n",
    "\n",
    "        layout = go.Layout(margin=dict(l=20, r=20, t=0, b=30))\n",
    "        fig = go.Figure(data=[trace], layout=layout)\n",
    "    return fig\n"
   ]
  }
 ],
 "metadata": {
  "kernelspec": {
   "display_name": "Python 3",
   "language": "python",
   "name": "python3"
  },
  "language_info": {
   "codemirror_mode": {
    "name": "ipython",
    "version": 3
   },
   "file_extension": ".py",
   "mimetype": "text/x-python",
   "name": "python",
   "nbconvert_exporter": "python",
   "pygments_lexer": "ipython3",
   "version": "3.6.8"
  },
  "latex_envs": {
   "LaTeX_envs_menu_present": true,
   "autoclose": false,
   "autocomplete": true,
   "bibliofile": "biblio.bib",
   "cite_by": "apalike",
   "current_citInitial": 1,
   "eqLabelWithNumbers": true,
   "eqNumInitial": 1,
   "hotkeys": {
    "equation": "Ctrl-E",
    "itemize": "Ctrl-I"
   },
   "labels_anchors": false,
   "latex_user_defs": false,
   "report_style_numbering": false,
   "user_envs_cfg": false
  }
 },
 "nbformat": 4,
 "nbformat_minor": 2
}
