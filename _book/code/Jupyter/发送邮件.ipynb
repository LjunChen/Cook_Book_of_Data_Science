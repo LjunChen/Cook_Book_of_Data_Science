{
 "cells": [
  {
   "cell_type": "code",
   "execution_count": 1,
   "metadata": {},
   "outputs": [],
   "source": [
    "from smtplib import SMTP_SSL\n",
    "from email.mime.text import MIMEText\n",
    "from email.mime.multipart import MIMEMultipart\n",
    "from email.mime.application import MIMEApplication\n",
    "from email.header import Header"
   ]
  },
  {
   "cell_type": "code",
   "execution_count": 8,
   "metadata": {},
   "outputs": [],
   "source": [
    "host_server='smtp.163.com'\n",
    "sender='chenliujun0556@163.com'\n",
    "pwd='chenliujun0556'\n",
    "receivers_list=[['sven163','chenliujun0556@163.com'],['svenfudan','19110690005@fudan.edu.cn']]\n"
   ]
  },
  {
   "cell_type": "code",
   "execution_count": 9,
   "metadata": {},
   "outputs": [],
   "source": [
    "for receiver in receivers_list:\n",
    "    mail_title='python办公自动化的邮件'\n",
    "    mail_content='''Dear {}:\n",
    "    你好，这是一个测试邮件'''.format(receiver[0])\n",
    "    msg=MIMEMultipart()\n",
    "    msg['Subject']=Header(mail_title,'utf-8')\n",
    "    msg['From']=sender\n",
    "    msg['To']=Header('测试邮箱','utf-8')\n",
    "    msg.attach(MIMEText(mail_content,'plain','utf-8'))\n",
    "    \n",
    "    ###插入附件\n",
    "    attachment=MIMEApplication(open('D:/test.xlsx','rb').read())\n",
    "    attachment.add_header('content-Disposition','attachment',filename='test.xlsx')\n",
    "    msg.attach(attachment)\n",
    "    \n",
    "    smtp=SMTP_SSL(host_server)\n",
    "    smtp.ehlo(host_server)\n",
    "    smtp.login(sender,pwd)\n",
    "    smtp.sendmail(sender,receiver[1],msg.as_string())\n",
    "    smtp.quit()"
   ]
  },
  {
   "cell_type": "code",
   "execution_count": null,
   "metadata": {},
   "outputs": [],
   "source": []
  }
 ],
 "metadata": {
  "kernelspec": {
   "display_name": "Python 3",
   "language": "python",
   "name": "python3"
  },
  "language_info": {
   "codemirror_mode": {
    "name": "ipython",
    "version": 3
   },
   "file_extension": ".py",
   "mimetype": "text/x-python",
   "name": "python",
   "nbconvert_exporter": "python",
   "pygments_lexer": "ipython3",
   "version": "3.7.6"
  }
 },
 "nbformat": 4,
 "nbformat_minor": 2
}
