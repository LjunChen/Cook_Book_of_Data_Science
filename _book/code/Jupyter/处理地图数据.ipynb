{
 "cells": [
  {
   "cell_type": "code",
   "execution_count": 1,
   "metadata": {},
   "outputs": [],
   "source": [
    "import json\n",
    "import pyecharts.options as opts\n",
    "from pyecharts.charts import Map\n",
    "\n",
    "with open(\"D:/Study/data/HK.json\", \"r\", encoding=\"utf-8\") as f:\n",
    "    data = json.load(f)\n"
   ]
  },
  {
   "cell_type": "code",
   "execution_count": 2,
   "metadata": {},
   "outputs": [],
   "source": [
    "MAP_DATA = [\n",
    "    [\"中西区\", 20057.34],\n",
    "    [\"湾仔\", 15477.48],\n",
    "    [\"东区\", 31686.1],\n",
    "    [\"南区\", 6992.6],\n",
    "    [\"油尖旺\", 44045.49],\n",
    "    [\"深水埗\", 40689.64],\n",
    "    [\"九龙城\", 37659.78],\n",
    "    [\"黄大仙\", 45180.97],\n",
    "    [\"观塘\", 55204.26],\n",
    "    [\"葵青\", 21900.9],\n",
    "    [\"荃湾\", 4918.26],\n",
    "    [\"屯门\", 5881.84],\n",
    "    [\"元朗\", 4178.01],\n",
    "    [\"北区\", 2227.92],\n",
    "    [\"大埔\", 2180.98],\n",
    "    [\"沙田\", 9172.94],\n",
    "    [\"西贡\", 3368],\n",
    "    [\"离岛\", 806.98],\n",
    "]\n"
   ]
  },
  {
   "cell_type": "code",
   "execution_count": 3,
   "metadata": {},
   "outputs": [],
   "source": [
    "NAME_MAP_DATA = {\n",
    "    # \"key\": \"value\"\n",
    "    # \"name on the hong kong map\": \"name in the MAP DATA\",\n",
    "    \"Central and Western\": \"中西区\",\n",
    "    \"Eastern\": \"东区\",\n",
    "    \"Islands\": \"离岛\",\n",
    "    \"Kowloon City\": \"九龙城\",\n",
    "    \"Kwai Tsing\": \"葵青\",\n",
    "    \"Kwun Tong\": \"观塘\",\n",
    "    \"North\": \"北区\",\n",
    "    \"Sai Kung\": \"西贡\",\n",
    "    \"Sha Tin\": \"沙田\",\n",
    "    \"Sham Shui Po\": \"深水埗\",\n",
    "    \"Southern\": \"南区\",\n",
    "    \"Tai Po\": \"大埔\",\n",
    "    \"Tsuen Wan\": \"荃湾\",\n",
    "    \"Tuen Mun\": \"屯门\",\n",
    "    \"Wan Chai\": \"湾仔\",\n",
    "    \"Wong Tai Sin\": \"黄大仙\",\n",
    "    \"Yau Tsim Mong\": \"油尖旺\",\n",
    "    \"Yuen Long\": \"元朗\",\n",
    "}"
   ]
  },
  {
   "cell_type": "code",
   "execution_count": 4,
   "metadata": {},
   "outputs": [
    {
     "data": {
      "text/plain": [
       "'D:\\\\Study\\\\results\\\\population_density_of_HongKong.html'"
      ]
     },
     "execution_count": 4,
     "metadata": {},
     "output_type": "execute_result"
    }
   ],
   "source": [
    "(\n",
    "    Map(init_opts=opts.InitOpts(width=\"1400px\", height=\"800px\"))\n",
    "    .add_js_funcs(\"echarts.registerMap('HK', {});\".format(data))\n",
    "    .add(\n",
    "        series_name=\"香港18区人口密度\",\n",
    "        maptype=\"HK\",\n",
    "        data_pair=MAP_DATA,\n",
    "        name_map=NAME_MAP_DATA,\n",
    "        is_map_symbol_show=False,\n",
    "    )\n",
    "    .set_global_opts(\n",
    "        title_opts=opts.TitleOpts(\n",
    "            title=\"香港18区人口密度 （2011）\",\n",
    "            subtitle=\"人口密度数据来自Wikipedia\",\n",
    "        ),\n",
    "        visualmap_opts=opts.VisualMapOpts(\n",
    "            min_=800,\n",
    "            max_=50000,\n",
    "            range_text=[\"High\", \"Low\"],\n",
    "            is_calculable=True,\n",
    "            range_color=[\"lightskyblue\", \"yellow\", \"orangered\"],\n",
    "        ),\n",
    "    )\n",
    "    .render(\"D:/Study/results/population_density_of_HongKong.html\")\n",
    ")"
   ]
  },
  {
   "cell_type": "code",
   "execution_count": null,
   "metadata": {},
   "outputs": [],
   "source": []
  }
 ],
 "metadata": {
  "kernelspec": {
   "display_name": "Python 3",
   "language": "python",
   "name": "python3"
  },
  "language_info": {
   "codemirror_mode": {
    "name": "ipython",
    "version": 3
   },
   "file_extension": ".py",
   "mimetype": "text/x-python",
   "name": "python",
   "nbconvert_exporter": "python",
   "pygments_lexer": "ipython3",
   "version": "3.6.8"
  }
 },
 "nbformat": 4,
 "nbformat_minor": 2
}
