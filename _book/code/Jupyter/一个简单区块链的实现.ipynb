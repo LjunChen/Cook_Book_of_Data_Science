{
 "cells": [
  {
   "cell_type": "code",
   "execution_count": 1,
   "metadata": {
    "ExecuteTime": {
     "end_time": "2020-03-06T16:11:30.573530Z",
     "start_time": "2020-03-06T16:11:30.550065Z"
    }
   },
   "outputs": [],
   "source": [
    "import hashlib\n",
    "\n",
    "\n",
    "class Block:\n",
    "    def __init__(self, data, prev_hash):\n",
    "        self.previous_hash = prev_hash\n",
    "        self.data = data\n",
    "\n",
    "    ##计算区块的hash值\n",
    "    def hash(self):\n",
    "        message = hashlib.sha256()\n",
    "        message.update(str(self.data).encode('utf-8'))\n",
    "        return message.hexdigest()"
   ]
  },
  {
   "cell_type": "code",
   "execution_count": 2,
   "metadata": {
    "ExecuteTime": {
     "end_time": "2020-03-06T16:11:30.592510Z",
     "start_time": "2020-03-06T16:11:30.582503Z"
    }
   },
   "outputs": [],
   "source": [
    "def create_genesis_block():\n",
    "    return Block(data = 'Genesis_Block', prev_hash = '')"
   ]
  },
  {
   "cell_type": "markdown",
   "metadata": {},
   "source": [
    "定义区块链结构"
   ]
  },
  {
   "cell_type": "code",
   "execution_count": 3,
   "metadata": {
    "ExecuteTime": {
     "end_time": "2020-03-06T16:11:30.627381Z",
     "start_time": "2020-03-06T16:11:30.608449Z"
    }
   },
   "outputs": [],
   "source": [
    "class BlockChain:\n",
    "    def __init__(self):\n",
    "        self.blocks = [create_genesis_block()]\n",
    "\n",
    "    def add_block(self, data):\n",
    "        prev_block = self.blocks[len(self.blocks) - 1]\n",
    "        new_block = Block(data, prev_block.hash())\n",
    "        self.blocks.append(new_block)\n",
    "        return new_block"
   ]
  },
  {
   "cell_type": "markdown",
   "metadata": {},
   "source": [
    "创建区块链"
   ]
  },
  {
   "cell_type": "code",
   "execution_count": 4,
   "metadata": {
    "ExecuteTime": {
     "end_time": "2020-03-06T16:11:31.482490Z",
     "start_time": "2020-03-06T16:11:31.477503Z"
    }
   },
   "outputs": [],
   "source": [
    "bc = BlockChain()\n",
    "b1 = bc.add_block('Jack send 0.3 btc to Alice')\n",
    "b2 = bc.add_block('Alice send 0.3 btc to Tom')\n"
   ]
  },
  {
   "cell_type": "code",
   "execution_count": 5,
   "metadata": {
    "ExecuteTime": {
     "end_time": "2020-03-06T16:11:31.999847Z",
     "start_time": "2020-03-06T16:11:31.987881Z"
    }
   },
   "outputs": [
    {
     "name": "stdout",
     "output_type": "stream",
     "text": [
      "prev Hash :\n",
      "Data:Genesis_Block\n",
      "Hash:2b959579f85ebf7f81f3ad5875a444eed1b7694ff0a9d558edd2a7699df0b8e7\n",
      "\n",
      "\n",
      "prev Hash :2b959579f85ebf7f81f3ad5875a444eed1b7694ff0a9d558edd2a7699df0b8e7\n",
      "Data:Jack send 0.3 btc to Alice\n",
      "Hash:0dc59fbbf189fe10b1c1849907badb21fc1f0050b71b8c1d41a72126b969b81b\n",
      "\n",
      "\n",
      "prev Hash :0dc59fbbf189fe10b1c1849907badb21fc1f0050b71b8c1d41a72126b969b81b\n",
      "Data:Alice send 0.3 btc to Tom\n",
      "Hash:5bda3ca5416b3502da45796b36fc8d1790924e5cfef2fa51342c3bc0de75d7e8\n",
      "\n",
      "\n"
     ]
    }
   ],
   "source": [
    "for b in bc.blocks:\n",
    "    print('prev Hash :{}'.format(b.previous_hash))\n",
    "    print('Data:{}'.format(b.data))\n",
    "    print('Hash:{}'.format(b.hash()))\n",
    "    print('\\n')"
   ]
  },
  {
   "cell_type": "code",
   "execution_count": null,
   "metadata": {},
   "outputs": [],
   "source": []
  }
 ],
 "metadata": {
  "kernelspec": {
   "display_name": "Python 3",
   "language": "python",
   "name": "python3"
  },
  "language_info": {
   "codemirror_mode": {
    "name": "ipython",
    "version": 3
   },
   "file_extension": ".py",
   "mimetype": "text/x-python",
   "name": "python",
   "nbconvert_exporter": "python",
   "pygments_lexer": "ipython3",
   "version": "3.6.8"
  },
  "latex_envs": {
   "LaTeX_envs_menu_present": true,
   "autoclose": false,
   "autocomplete": true,
   "bibliofile": "biblio.bib",
   "cite_by": "apalike",
   "current_citInitial": 1,
   "eqLabelWithNumbers": true,
   "eqNumInitial": 1,
   "hotkeys": {
    "equation": "Ctrl-E",
    "itemize": "Ctrl-I"
   },
   "labels_anchors": false,
   "latex_user_defs": false,
   "report_style_numbering": false,
   "user_envs_cfg": false
  }
 },
 "nbformat": 4,
 "nbformat_minor": 2
}
