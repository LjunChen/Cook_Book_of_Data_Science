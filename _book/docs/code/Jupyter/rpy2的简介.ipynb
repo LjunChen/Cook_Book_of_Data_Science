{
 "cells": [
  {
   "cell_type": "markdown",
   "metadata": {
    "collapsed": true,
    "pycharm": {
     "is_executing": false,
     "name": "#%% md\n"
    },
    "slideshow": {
     "slide_type": "slide"
    }
   },
   "source": [
    "模块rpy2.robjects 是rpy2对R的一个高级封装，使用rpy2的大多数情况，都只需要和这个模块打交道。$\\lambda$是一个希腊字母。\n",
    "\n",
    "R实例是指rpy2.robjects.r, 它是Python中的嵌入式R进程，把r当作从python走向R的通道来看就可以了。通过R实例，我们可以读取R的内置变量，调用R的函数，甚至直接当做R的解析器来用。\n",
    "\n",
    "首先看一些示例。"
   ]
  },
  {
   "cell_type": "code",
   "execution_count": 1,
   "metadata": {
    "ExecuteTime": {
     "end_time": "2020-03-04T14:10:32.446639Z",
     "start_time": "2020-03-04T14:10:32.087870Z"
    },
    "pycharm": {
     "is_executing": false,
     "name": "#%% \n"
    }
   },
   "outputs": [
    {
     "name": "stdout",
     "output_type": "stream",
     "text": [
      "[1] 3.141593\n",
      "\n",
      "[1] 3.141593\n",
      "\n"
     ]
    }
   ],
   "source": [
    "from rpy2 import robjects\n",
    "r=robjects.r\n",
    "\n",
    "print(r.pi)\n",
    "print(r['pi'])"
   ]
  },
  {
   "cell_type": "code",
   "execution_count": 2,
   "metadata": {
    "ExecuteTime": {
     "end_time": "2020-03-04T14:10:32.466387Z",
     "start_time": "2020-03-04T14:10:32.450604Z"
    },
    "pycharm": {
     "is_executing": false,
     "name": "#%% \n"
    }
   },
   "outputs": [
    {
     "data": {
      "text/html": [
       "\n",
       "    <span>FloatVector with 1 elements.</span>\n",
       "    <table>\n",
       "      <tbody>\n",
       "      <tr>\n",
       "      \n",
       "      <td>\n",
       "        9.424778\n",
       "      </td>\n",
       "      \n",
       "      </tr>\n",
       "      </tbody>\n",
       "    </table>\n",
       "    "
      ],
      "text/plain": [
       "R object with classes: ('numeric',) mapped to:\n",
       "<FloatVector - Python:0x000001B38C79D7C8 / R:0x000001B38CEBEBC8>\n",
       "[9.424778]"
      ]
     },
     "execution_count": 2,
     "metadata": {},
     "output_type": "execute_result"
    }
   ],
   "source": [
    "#create a function#\n",
    "r(\n",
    "    '''\n",
    "    f <- function(r){pi*r}\n",
    "    '''\n",
    ")\n",
    "r['f'](3)"
   ]
  },
  {
   "cell_type": "markdown",
   "metadata": {},
   "source": [
    "如何载入和使用R包，使用rpy2.robjects.packages.importr对象，调用方法是"
   ]
  },
  {
   "cell_type": "code",
   "execution_count": 3,
   "metadata": {
    "ExecuteTime": {
     "end_time": "2020-03-04T14:10:34.576083Z",
     "start_time": "2020-03-04T14:10:34.165064Z"
    },
    "pycharm": {
     "is_executing": false,
     "name": "#%%\n"
    }
   },
   "outputs": [
    {
     "data": {
      "text/html": [
       "\n",
       "    <span>FloatVector with 10 elements.</span>\n",
       "    <table>\n",
       "      <tbody>\n",
       "      <tr>\n",
       "      \n",
       "      <td>\n",
       "        1.274487\n",
       "      </td>\n",
       "      \n",
       "      <td>\n",
       "        0.412009\n",
       "      </td>\n",
       "      \n",
       "      <td>\n",
       "        0.328402\n",
       "      </td>\n",
       "      \n",
       "      <td>\n",
       "        0.367165\n",
       "      </td>\n",
       "      \n",
       "      <td>\n",
       "        ...\n",
       "      </td>\n",
       "      \n",
       "      <td>\n",
       "        -0.261865\n",
       "      </td>\n",
       "      \n",
       "      <td>\n",
       "        -0.519841\n",
       "      </td>\n",
       "      \n",
       "      <td>\n",
       "        1.523708\n",
       "      </td>\n",
       "      \n",
       "      <td>\n",
       "        -1.446749\n",
       "      </td>\n",
       "      \n",
       "      </tr>\n",
       "      </tbody>\n",
       "    </table>\n",
       "    "
      ],
      "text/plain": [
       "R object with classes: ('numeric',) mapped to:\n",
       "<FloatVector - Python:0x000001B38F07F288 / R:0x000001B38F572E28>\n",
       "[1.274487, 0.412009, 0.328402, 0.367165, ..., -0.261865, -0.519841, 1.523708, -1.446749]"
      ]
     },
     "execution_count": 3,
     "metadata": {},
     "output_type": "execute_result"
    }
   ],
   "source": [
    "from rpy2.robjects.packages import importr\n",
    "stats = importr('stats')\n",
    "stats.rnorm(10)"
   ]
  },
  {
   "cell_type": "markdown",
   "metadata": {},
   "source": [
    "加载脚本，r.source('script_path')即可将自定义函数加载到全局环境中，再使用r.自定义方法名就可以实现调用。\n",
    "\n",
    "接下来我们主要关注的是数据类型之间的转换，这个也是最关键的。"
   ]
  },
  {
   "cell_type": "code",
   "execution_count": 4,
   "metadata": {
    "ExecuteTime": {
     "end_time": "2020-03-04T14:10:36.254839Z",
     "start_time": "2020-03-04T14:10:36.246826Z"
    },
    "pycharm": {
     "is_executing": false,
     "name": "#%%\n"
    }
   },
   "outputs": [],
   "source": [
    "#python的列表 vs R的vector/数组\n",
    "x1=[1,2,3,4]\n",
    "x1=robjects.IntVector(x1)\n",
    "x2=['a','b','c']\n",
    "x2=robjects.StrVector(x2)\n",
    "\n",
    "x3=r.c(1,2,3,4)\n",
    "x3=list(x3)"
   ]
  },
  {
   "cell_type": "code",
   "execution_count": 5,
   "metadata": {
    "ExecuteTime": {
     "end_time": "2020-03-04T14:10:37.258551Z",
     "start_time": "2020-03-04T14:10:37.117534Z"
    }
   },
   "outputs": [
    {
     "name": "stdout",
     "output_type": "stream",
     "text": [
      "[1 2 3 4]\n"
     ]
    }
   ],
   "source": [
    "#将numpy数组转化为R的数组\n",
    "import numpy as np\n",
    "x1=np.array([1,2,3,4])\n",
    "x1=robjects.IntVector(x1)\n",
    "r.print(x1)\n",
    "#将R的数组转化为numpy数组\n",
    "x2=r.c(1,2,3,4)\n",
    "print(np.array(x2))"
   ]
  },
  {
   "cell_type": "code",
   "execution_count": 10,
   "metadata": {
    "ExecuteTime": {
     "end_time": "2020-03-04T14:10:23.657896Z",
     "start_time": "2020-03-04T14:10:23.621124Z"
    }
   },
   "outputs": [
    {
     "name": "stdout",
     "output_type": "stream",
     "text": [
      "   x  y\n",
      "0  1  2\n",
      "1  2  3\n",
      "2  3  4\n",
      "3  4  5\n"
     ]
    },
    {
     "name": "stderr",
     "output_type": "stream",
     "text": [
      "C:\\Users\\Sven\\Anaconda3\\envs\\study\\lib\\site-packages\\rpy2\\robjects\\pandas2ri.py:191: FutureWarning: from_items is deprecated. Please use DataFrame.from_dict(dict(items), ...) instead. DataFrame.from_dict(OrderedDict(items)) may be used to preserve the key order.\n",
      "  res = PandasDataFrame.from_items(items)\n"
     ]
    }
   ],
   "source": [
    "#将pandas的DataFrame转化为r的data.frame\n",
    "import pandas as pd \n",
    "x=pd.DataFrame({'x':[1,2,3,4],'y':[2,3,4,5]})\n",
    "from rpy2.robjects import r, pandas2ri \n",
    "pandas2ri.activate()\n",
    "r_dataframe=pandas2ri.py2ri(x)\n",
    "r.print(x)\n",
    "#-----------------------------------------\n",
    "x=r.c(1,2,3,4)\n",
    "y=r.c(2,3,4,5)\n",
    "x=r['data.frame'](x,y)\n",
    "x=pandas2ri.ri2py_dataframe(x)\n",
    "x.columns=['x','y']\n",
    "print(x)"
   ]
  }
 ],
 "metadata": {
  "kernelspec": {
   "display_name": "Python 3",
   "language": "python",
   "name": "python3"
  },
  "language_info": {
   "codemirror_mode": {
    "name": "ipython",
    "version": 3
   },
   "file_extension": ".py",
   "mimetype": "text/x-python",
   "name": "python",
   "nbconvert_exporter": "python",
   "pygments_lexer": "ipython3",
   "version": "3.6.8"
  },
  "latex_envs": {
   "LaTeX_envs_menu_present": true,
   "autoclose": false,
   "autocomplete": true,
   "bibliofile": "biblio.bib",
   "cite_by": "apalike",
   "current_citInitial": 1,
   "eqLabelWithNumbers": true,
   "eqNumInitial": 1,
   "hotkeys": {
    "equation": "Ctrl-E",
    "itemize": "Ctrl-I"
   },
   "labels_anchors": false,
   "latex_user_defs": false,
   "report_style_numbering": false,
   "user_envs_cfg": false
  },
  "pycharm": {
   "stem_cell": {
    "cell_type": "raw",
    "metadata": {
     "collapsed": false
    },
    "source": []
   }
  }
 },
 "nbformat": 4,
 "nbformat_minor": 1
}
