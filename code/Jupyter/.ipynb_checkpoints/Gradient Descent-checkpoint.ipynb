{
 "cells": [
  {
   "cell_type": "markdown",
   "metadata": {},
   "source": [
    "产生一个二元回归模型\n",
    "$$\n",
    "Y=b_0+b_1X_1+b_2X_2+\\epsilon\n",
    "$$\n",
    "其中$b_0=0.5,b_1=1,b_2=2, X_1\\sim U(0,1), X_2\\sim U(0,1), \\epsilon \\sim N(0,1)$"
   ]
  },
  {
   "cell_type": "code",
   "execution_count": 1,
   "metadata": {
    "ExecuteTime": {
     "end_time": "2020-03-16T09:51:19.688013Z",
     "start_time": "2020-03-16T09:51:19.566924Z"
    }
   },
   "outputs": [],
   "source": [
    "import numpy as np\n",
    "\n",
    "b0=0.5\n",
    "b1=1\n",
    "b2=2\n",
    "x1=np.random.uniform(0,1,1000)\n",
    "x2=np.random.uniform(0,1,1000)\n",
    "epsilon=np.random.randn(1000)\n",
    "y=b0+b1*x1+b2*x2+epsilon"
   ]
  },
  {
   "cell_type": "markdown",
   "metadata": {
    "ExecuteTime": {
     "end_time": "2020-03-16T08:33:53.313870Z",
     "start_time": "2020-03-16T08:33:53.307889Z"
    }
   },
   "source": [
    "尝试用Adagrad的方法来求解，初始值直接用从标准正态分布中采样,$\\eta$的值设为1"
   ]
  },
  {
   "cell_type": "code",
   "execution_count": 2,
   "metadata": {
    "ExecuteTime": {
     "end_time": "2020-03-16T09:51:20.942021Z",
     "start_time": "2020-03-16T09:51:20.876189Z"
    }
   },
   "outputs": [],
   "source": [
    "eta=1\n",
    "e_b0=[]\n",
    "e_b1=[]\n",
    "e_b2=[]\n",
    "e_b0_grad=[]\n",
    "e_b1_grad=[]\n",
    "e_b2_grad=[]\n",
    "e_b0.append(np.random.randn(1))\n",
    "e_b1.append(np.random.randn(1))\n",
    "e_b2.append(np.random.randn(1))\n",
    "for i in range(10000):\n",
    "    e_b0_grad.append(np.sum(2*(y-e_b0[i]-e_b1[i]*x1-e_b2[i]*x2))/(-1000))\n",
    "    e_b1_grad.append(np.sum(2*(y-e_b0[i]-e_b1[i]*x1-e_b2[i]*x2)*x1)/(-1000))\n",
    "    e_b2_grad.append(np.sum(2*(y-e_b0[i]-e_b1[i]*x1-e_b2[i]*x2)*x2)/(-1000))\n",
    "    e_b0.append(e_b0[i]-eta/np.sum(np.power(e_b0_grad,2))*e_b0_grad[i])\n",
    "    e_b1.append(e_b1[i]-eta/np.sum(np.power(e_b1_grad,2))*e_b1_grad[i])\n",
    "    e_b2.append(e_b2[i]-eta/np.sum(np.power(e_b2_grad,2))*e_b2_grad[i])\n",
    "    if np.abs(e_b0[i]-e_b0[i-1])+np.abs(e_b1[i]-e_b1[i-1])+np.abs(e_b2[i]-e_b2[i-1])<10**-4:\n",
    "        break"
   ]
  },
  {
   "cell_type": "code",
   "execution_count": 4,
   "metadata": {
    "ExecuteTime": {
     "end_time": "2020-03-16T09:51:24.452814Z",
     "start_time": "2020-03-16T09:51:24.269906Z"
    }
   },
   "outputs": [
    {
     "data": {
      "text/plain": [
       "Text(0.5, 1.0, '损失函数图')"
      ]
     },
     "execution_count": 4,
     "metadata": {},
     "output_type": "execute_result"
    },
    {
     "data": {
      "image/png": "[encoded data removed]",
      "text/plain": [
       "<Figure size 432x288 with 1 Axes>"
      ]
     },
     "metadata": {
      "needs_background": "light"
     },
     "output_type": "display_data"
    }
   ],
   "source": [
    "import matplotlib.pyplot as plt\n",
    "import matplotlib\n",
    "matplotlib.rcParams['font.sans-serif'] = ['SimHei']\n",
    "matplotlib.rcParams['font.family']='sans-serif'\n",
    "loss=np.zeros(len(e_b2))\n",
    "for i in range(len(e_b2)):\n",
    "    loss[i]=np.sum((y-e_b0[i].item()-e_b1[i].item()*x1-e_b2[i].item()*x2)**2)/1000\n",
    "plt.plot(loss)\n",
    "plt.title('损失函数图')"
   ]
  },
  {
   "cell_type": "code",
   "execution_count": 5,
   "metadata": {
    "ExecuteTime": {
     "end_time": "2020-03-16T09:51:25.664028Z",
     "start_time": "2020-03-16T09:51:25.653058Z"
    }
   },
   "outputs": [
    {
     "name": "stdout",
     "output_type": "stream",
     "text": [
      "[0.64365614]\n",
      "[0.82961552]\n",
      "[1.95380538]\n",
      "270\n"
     ]
    }
   ],
   "source": [
    "print(e_b0[-1])\n",
    "print(e_b1[-1])\n",
    "print(e_b2[-1])\n",
    "print(len(e_b0))"
   ]
  },
  {
   "cell_type": "markdown",
   "metadata": {
    "ExecuteTime": {
     "end_time": "2020-03-16T08:55:27.133523Z",
     "start_time": "2020-03-16T08:55:27.118091Z"
    }
   },
   "source": [
    "下面考虑用随机梯度下降做一遍"
   ]
  },
  {
   "cell_type": "code",
   "execution_count": 9,
   "metadata": {
    "ExecuteTime": {
     "end_time": "2020-03-16T09:51:48.391508Z",
     "start_time": "2020-03-16T09:51:47.674123Z"
    }
   },
   "outputs": [],
   "source": [
    "import numpy as np\n",
    "\n",
    "b0=0.5\n",
    "b1=1\n",
    "b2=2\n",
    "x1=np.random.uniform(0,1,1000)\n",
    "x2=np.random.uniform(0,1,1000)\n",
    "epsilon=np.random.randn(1000)\n",
    "y=b0+b1*x1+b2*x2+epsilon\n",
    "\n",
    "eta=1\n",
    "e_b0=[]\n",
    "e_b1=[]\n",
    "e_b2=[]\n",
    "# e_b0_grad=[]\n",
    "# e_b1_grad=[]\n",
    "# e_b2_grad=[]\n",
    "e_b0.append(np.random.randn(1))\n",
    "e_b1.append(np.random.randn(1))\n",
    "e_b2.append(np.random.randn(1))\n",
    "\n",
    "for epoch in range(1000):\n",
    "    for j in range(1000):\n",
    "        e_b0_grad=-(y[j]-e_b0[-1]-e_b1[-1]*x1[j]-e_b2[-1]*x2[j])\n",
    "        e_b1_grad=-(y[j]-e_b0[-1]-e_b1[-1]*x1[j]-e_b2[-1]*x2[j])*x1[j]\n",
    "        e_b2_grad=-(y[j]-e_b0[-1]-e_b1[-1]*x1[j]-e_b2[-1]*x2[j])*x2[j]\n",
    "#         e_b0_grad.append(-2*(y[j]-e_b0[-1]-e_b1[-1]*x1[j]-e_b2[-1]*x2[j]))\n",
    "#         e_b1_grad.append(-2*(y[j]-e_b0[-1]-e_b1[-1]*x1[j]-e_b2[-1]*x2[j])*x1[j])\n",
    "#         e_b2_grad.append(-2*(y[j]-e_b0[-1]-e_b1[-1]*x1[j]-e_b2[-1]*x2[j])*x2[j])        \n",
    "        e_b0.append(e_b0[-1]-eta/np.sqrt(epoch+1)*e_b0_grad)\n",
    "        e_b1.append(e_b1[-1]-eta/np.sqrt(epoch+1)*e_b1_grad)\n",
    "        e_b2.append(e_b2[-1]-eta/np.sqrt(epoch+1)*e_b2_grad)\n",
    "        if np.abs(e_b0[-1]-e_b0[-2])+np.abs(e_b1[-1]-e_b1[-2])+np.abs(e_b2[-1]-e_b2[-2])<10**-3:\n",
    "            break"
   ]
  },
  {
   "cell_type": "code",
   "execution_count": 10,
   "metadata": {
    "ExecuteTime": {
     "end_time": "2020-03-16T09:51:48.926970Z",
     "start_time": "2020-03-16T09:51:48.391508Z"
    }
   },
   "outputs": [
    {
     "data": {
      "text/plain": [
       "Text(0.5, 1.0, '损失函数图')"
      ]
     },
     "execution_count": 10,
     "metadata": {},
     "output_type": "execute_result"
    },
    {
     "data": {
      "image/png": "[encoded data removed]",
      "text/plain": [
       "<Figure size 432x288 with 1 Axes>"
      ]
     },
     "metadata": {
      "needs_background": "light"
     },
     "output_type": "display_data"
    }
   ],
   "source": [
    "import matplotlib.pyplot as plt\n",
    "import matplotlib\n",
    "matplotlib.rcParams['font.sans-serif'] = ['SimHei']\n",
    "matplotlib.rcParams['font.family']='sans-serif'\n",
    "loss=np.zeros(len(e_b2))\n",
    "for i in range(len(e_b2)):\n",
    "    loss[i]=np.sum((y-e_b0[i].item()-e_b1[i].item()*x1-e_b2[i].item()*x2)**2)/1000\n",
    "plt.plot(loss)\n",
    "plt.title('损失函数图')"
   ]
  },
  {
   "cell_type": "code",
   "execution_count": 11,
   "metadata": {
    "ExecuteTime": {
     "end_time": "2020-03-16T09:51:50.949893Z",
     "start_time": "2020-03-16T09:51:50.940949Z"
    }
   },
   "outputs": [
    {
     "name": "stdout",
     "output_type": "stream",
     "text": [
      "[0.7555121]\n",
      "[1.05218214]\n",
      "[1.93948304]\n",
      "17660\n"
     ]
    }
   ],
   "source": [
    "print(e_b0[-1])\n",
    "print(e_b1[-1])\n",
    "print(e_b2[-1])\n",
    "print(len(e_b0))"
   ]
  },
  {
   "cell_type": "code",
   "execution_count": null,
   "metadata": {},
   "outputs": [],
   "source": []
  },
  {
   "cell_type": "code",
   "execution_count": null,
   "metadata": {},
   "outputs": [],
   "source": []
  },
  {
   "cell_type": "code",
   "execution_count": null,
   "metadata": {},
   "outputs": [],
   "source": []
  }
 ],
 "metadata": {
  "kernelspec": {
   "display_name": "Python 3",
   "language": "python",
   "name": "python3"
  },
  "language_info": {
   "codemirror_mode": {
    "name": "ipython",
    "version": 3
   },
   "file_extension": ".py",
   "mimetype": "text/x-python",
   "name": "python",
   "nbconvert_exporter": "python",
   "pygments_lexer": "ipython3",
   "version": "3.6.8"
  },
  "latex_envs": {
   "LaTeX_envs_menu_present": true,
   "autoclose": false,
   "autocomplete": true,
   "bibliofile": "biblio.bib",
   "cite_by": "apalike",
   "current_citInitial": 1,
   "eqLabelWithNumbers": true,
   "eqNumInitial": 1,
   "hotkeys": {
    "equation": "Ctrl-E",
    "itemize": "Ctrl-I"
   },
   "labels_anchors": false,
   "latex_user_defs": false,
   "report_style_numbering": false,
   "user_envs_cfg": false
  }
 },
 "nbformat": 4,
 "nbformat_minor": 2
}
